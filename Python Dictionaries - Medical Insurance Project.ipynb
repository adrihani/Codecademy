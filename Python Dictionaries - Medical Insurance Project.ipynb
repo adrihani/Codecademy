{
 "cells": [
  {
   "cell_type": "markdown",
   "metadata": {},
   "source": [
    "# Python Dictionaries: Medical Insurance Project\n",
    "\n",
    "Link: https://www.codecademy.com/paths/data-science/tracks/dscp-python-fundamentals/modules/dscp-python-dictionaries/projects/ds-python-dictionaries-project\n",
    "\n",
    "#### You have been asked to create a program that organizes and updates medical records efficiently.\n",
    "\n",
    "#### In this project, you will use your new knowledge of Python dictionaries to create a database of medical records for patients.\n",
    "\n",
    "#### Let’s get started!"
   ]
  },
  {
   "cell_type": "markdown",
   "metadata": {},
   "source": [
    "## Storing patient names and insurance costs\n",
    "\n",
    "#### 1\n",
    "We would like to keep a record of medical patients and their insurance costs.\n",
    "\n",
    "First, create an empty dictionary called medical_costs."
   ]
  },
  {
   "cell_type": "markdown",
   "metadata": {},
   "source": [
    "#### 2\n",
    "Let’s populate our medical_costs dictionary by adding the following key-value pairs:\n",
    "\n",
    "Add \"Marina\" to medical_costs as a key with a value of 6607.0.\n",
    "Add \"Vinay\" to medical_costs as a key with a value of 3225.0.\n",
    "\n",
    "#### 3\n",
    "Using one line of code, add the following three patients to the medical_costs dictionary:\n",
    "\n",
    "\"Connie\", with an insurance cost of 8886.0\n",
    "\"Isaac\", with an insurance cost of 16444.0\n",
    "\"Valentina\", with an insurance cost of 6420.0\n",
    "\n",
    "#### 4\n",
    "Print medical_costs. Make sure the dictionary is what you expected.\n",
    "\n",
    "#### 5\n",
    "You notice that Vinay’s insurance cost was incorrectly inputted. Update the value associated with Vinay to 3325.0.\n",
    "\n",
    "Print the updated dictionary.\n",
    "\n",
    "#### 6\n",
    "Let’s calculate the average medical cost of each patient. Create a variable called total_cost and set it equal to 0.\n",
    "\n",
    "Next, iterate through the values in medical_costs and add each value to the total_cost variable.\n",
    "\n",
    "#### 7\n",
    "After the loop, create a variable called average_cost that stores the total_cost divided by the length of the medical_costs dictionary.\n",
    "\n",
    "Print average_cost with the following message:\n",
    "\n",
    "Average Insurance Cost: {average_cost}"
   ]
  },
  {
   "cell_type": "code",
   "execution_count": 1,
   "metadata": {},
   "outputs": [
    {
     "name": "stdout",
     "output_type": "stream",
     "text": [
      "{'Marina': 6607.0, 'Vinay': 3225.0, 'Connie': 8886.0, 'Isaac': 16444.0, 'Valentina': 6420.0}\n",
      "{'Marina': 6607.0, 'Vinay': 3325.0, 'Connie': 8886.0, 'Isaac': 16444.0, 'Valentina': 6420.0}\n",
      "Average Insurace Cost: 8336.4\n"
     ]
    }
   ],
   "source": [
    "# 1\n",
    "medical_costs ={}\n",
    "\n",
    "# 2\n",
    "medical_costs.update({\"Marina\":6607.0, \"Vinay\":3225.0})\n",
    "\n",
    "# 3\n",
    "medical_costs.update({\"Connie\":8886.0, \"Isaac\":16444.0, \"Valentina\":6420.0})\n",
    "\n",
    "# 4\n",
    "print(medical_costs)\n",
    "\n",
    "# 5\n",
    "medical_costs[\"Vinay\"]=3325.0\n",
    "print(medical_costs)\n",
    "\n",
    "# 6\n",
    "total_cost = 0\n",
    "for cost in medical_costs.values():\n",
    "  total_cost += cost\n",
    "\n",
    "# 7\n",
    "average_cost = total_cost/len(medical_costs)\n",
    "print(\"Average Insurace Cost: \" + str(average_cost))"
   ]
  },
  {
   "cell_type": "markdown",
   "metadata": {},
   "source": [
    "## List Comprehension to Dictionary\n",
    "\n",
    "#### 8\n",
    "You have been asked to create a second dictionary that maps patient names to their ages.\n",
    "\n",
    "First, create two lists called names and ages with the following data:\n",
    "\n",
    "names\tages\n",
    "Marina\t27\n",
    "Vinay\t24\n",
    "Connie\t43\n",
    "Isaac\t35\n",
    "Valentina\t52\n",
    "\n",
    "#### 9\n",
    "Next, create a variable called zipped_ages that is a zipped list of pairs between the names list and the ages list.\n",
    "\n",
    "#### 10\n",
    "Create a dictionary called names_to_ages by using a list comprehension that iterates through zipped_ages and turns each pair into a key : value item.\n",
    "\n",
    "Print names_to_ages to see the result.\n",
    "\n",
    "#### 11\n",
    "Use .get() to get the value of Marina’s age and store it in a variable called marina_age. Use None as a default value if the key doesn’t exist.\n",
    "\n",
    "Print marina_age with the following message:\n",
    "\n",
    "Marina's age is {marina_age}"
   ]
  },
  {
   "cell_type": "code",
   "execution_count": 2,
   "metadata": {},
   "outputs": [
    {
     "name": "stdout",
     "output_type": "stream",
     "text": [
      "{'Marina': 27, 'Vinay': 24, 'Connie': 43, 'Isaac': 35, 'Valentina': 52}\n",
      "Marina's age is 27\n"
     ]
    }
   ],
   "source": [
    "# 8\n",
    "names = [\"Marina\", \"Vinay\", \"Connie\", \"Isaac\", \"Valentina\"]\n",
    "ages = [27, 24, 43, 35, 52]\n",
    "\n",
    "# 9 \n",
    "zipped_ages = zip(names, ages)\n",
    "\n",
    "# 10\n",
    "names_to_ages = {key:value for key,value in zipped_ages}\n",
    "print(names_to_ages)\n",
    "\n",
    "# 11\n",
    "marina_age = names_to_ages.get(\"Marina\", None)\n",
    "print(\"Marina's age is \" + str(marina_age))\n"
   ]
  },
  {
   "cell_type": "markdown",
   "metadata": {},
   "source": [
    "## Using a Dictionary to create a medical database\n",
    "\n",
    "#### 12\n",
    "Let’s create a third dictionary to represent a database of medical records that contains information such as a patient’s name, age, sex, gender, BMI, number of children, smoker status, and insurance cost.\n",
    "\n",
    "First, create an empty dictionary called medical_records.\n",
    "\n",
    "#### 13\n",
    "Next, add \"Marina\" to medical_records as a key with the value being a dictionary of medical data:\n",
    "\n",
    "{\"Age\": 27, \"Sex\": \"Female\", \"BMI\": 31.1, \"Children\": 2, \"Smoker\": \"Non-smoker\", \"Insurance_cost\": 6607.0}\n",
    "\n",
    "#### 14\n",
    "Do the same for the following individuals:\n",
    "\n",
    "Name\tAge\tSex\tBMI\tChildren\tSmoker\tInsurance Cost\n",
    "Vinay\t24\tMale\t26.9\t0\tNon-smoker\t3225.0\n",
    "Connie\t43\tFemale\t25.3\t3\tNon-smoker\t8886.0\n",
    "Isaac\t35\tMale\t20.6\t4\tSmoker\t16444.0\n",
    "Valentina\t52\tFemale\t18.7\t1\tNon-smoker\t6420.0\n",
    "\n",
    "#### 15\n",
    "Print medical_records to see the result.\n",
    "\n",
    "#### 16\n",
    "The medical_records dictionary acts like a database of medical records. Let’s access a specific piece of data in medical_records.\n",
    "\n",
    "Print out Connie’s insurance cost with the following message:\n",
    "\n",
    "Connie's insurance cost is X dollars.\n",
    "\n",
    "#### 17\n",
    "Vinay has moved to a new country and we no longer want to include him in our medical records.\n",
    "\n",
    "Remove Vinay from medical_records.\n",
    "\n",
    "#### 18\n",
    "Let’s take a closer look at each patient’s medical record.\n",
    "\n",
    "Use a for loop to iterate through the items of medical_records. For each key-value pair, print out a string that looks like the following:\n",
    "\n",
    "{Name} is a {Age} year old {Sex} {Smoker} with a BMI of {BMI} and insurance cost of {Insurance_cost}"
   ]
  },
  {
   "cell_type": "code",
   "execution_count": 3,
   "metadata": {},
   "outputs": [
    {
     "name": "stdout",
     "output_type": "stream",
     "text": [
      "{'Marina': {'Age': 27, 'Sex': 'Female', 'BMI': 31.1, 'Children': 2, 'Smoker': 'Non-smoker', 'Insurance_cost': 6607.0}, 'Vinay': {'Age': 24, 'Sex': 'Male', 'BMI': 26.9, 'Children': 0, 'Smoker': 'Non-smoker', 'Insurance_cost': 3225.0}, 'Connie': {'Age': 43, 'Sex': 'Female', 'BMI': 25.3, 'Children': 3, 'Smoker': 'Non-smoker', 'Insurance_cost': 8886.0}, 'Isaac': {'Age': 35, 'Sex': 'Male', 'BMI': 20.6, 'Children': 4, 'Smoker': 'Smoker', 'Insurance_cost': 16444.0}, 'Valentina': {'Age': 52, 'Sex': 'Female', 'BMI': 18.7, 'Children': 1, 'Smoker': 'Non-smoker', 'Insurance_cost': 6420.0}}\n"
     ]
    }
   ],
   "source": [
    "# 12\n",
    "medical_records = {}\n",
    "\n",
    "# 13\n",
    "medical_records[\"Marina\"]={\"Age\" : 27, \"Sex\" : \"Female\", \"BMI\" : 31.1, \"Children\" : 2, \"Smoker\" : \"Non-smoker\", \"Insurance_cost\": 6607.0}\n",
    "\n",
    "# 14\n",
    "medical_records.update({\"Vinay\" : {\"Age\" : 24, \"Sex\" : \"Male\", \"BMI\" : 26.9, \"Children\" : 0, \"Smoker\" : \"Non-smoker\", \"Insurance_cost\": 3225.0}, \"Connie\" : {\"Age\" : 43, \"Sex\" : \"Female\", \"BMI\" : 25.3, \"Children\" : 3, \"Smoker\" : \"Non-smoker\", \"Insurance_cost\": 8886.0}, \"Isaac\" : {\"Age\" : 35, \"Sex\" : \"Male\", \"BMI\" : 20.6, \"Children\" : 4, \"Smoker\" : \"Smoker\", \"Insurance_cost\": 16444.0}, \"Valentina\" : {\"Age\" : 52, \"Sex\" : \"Female\", \"BMI\" : 18.7, \"Children\" : 1, \"Smoker\" : \"Non-smoker\", \"Insurance_cost\": 6420.0}})\n",
    "\n",
    "# 15 \n",
    "print(medical_records)"
   ]
  },
  {
   "cell_type": "code",
   "execution_count": 4,
   "metadata": {},
   "outputs": [
    {
     "name": "stdout",
     "output_type": "stream",
     "text": [
      "Connie's insurance cost is 8886.0 dollars.\n",
      "Marina is a 27 year old Female Non-smoker with a BMI of 31.1 and insurance cost of 6607.0\n",
      "Connie is a 43 year old Female Non-smoker with a BMI of 25.3 and insurance cost of 8886.0\n",
      "Isaac is a 35 year old Male Smoker with a BMI of 20.6 and insurance cost of 16444.0\n",
      "Valentina is a 52 year old Female Non-smoker with a BMI of 18.7 and insurance cost of 6420.0\n"
     ]
    }
   ],
   "source": [
    "# 16\n",
    "print(\"Connie's insurance cost is \" + str(medical_records[\"Connie\"][\"Insurance_cost\"]) + \" dollars.\")\n",
    "\n",
    "# 17\n",
    "medical_records.pop(\"Vinay\")\n",
    "\n",
    "# 18\n",
    "for name, record in medical_records.items():\n",
    "  print(\n",
    "    name + \" is a \" + str(record[\"Age\"]) + \\\n",
    "  \" year old \" + record[\"Sex\"] + \" \" + record[\"Smoker\"] \\\n",
    "  + \" with a BMI of \" + str(record[\"BMI\"]) + \\\n",
    "  \" and insurance cost of \" + str(record[\"Insurance_cost\"])\n",
    "  )"
   ]
  },
  {
   "cell_type": "markdown",
   "metadata": {},
   "source": [
    "#### 19\n",
    "\n",
    "Congratulations! In this project, you used Python dictionaries to store and update medical data for individuals.\n",
    "\n",
    "If you’d like extra practice with dictionaries, here are some suggestions to go further with this project:\n",
    "\n",
    "Create a function called update_medical_records() that takes in the name of an individual as well as their medical data, and then updates the medical_records dictionary accordingly.\n",
    "Create a new dictionary of your choice – feel free to get creative!"
   ]
  },
  {
   "cell_type": "code",
   "execution_count": 5,
   "metadata": {},
   "outputs": [
    {
     "name": "stdout",
     "output_type": "stream",
     "text": [
      "{'Marina': {'Age': 27, 'Sex': 'Female', 'BMI': 31.1, 'Children': 2, 'Smoker': 'Non-smoker', 'Insurance_cost': 6607.0}, 'Connie': {'Age': 43, 'Sex': 'Female', 'BMI': 25.3, 'Children': 3, 'Smoker': 'Non-smoker', 'Insurance_cost': 8886.0}, 'Isaac': {'Age': 35, 'Sex': 'Male', 'BMI': 20.6, 'Children': 4, 'Smoker': 'Smoker', 'Insurance_cost': 16444.0}, 'Valentina': {'Age': 52, 'Sex': 'Female', 'BMI': 18.7, 'Children': 1, 'Smoker': 'Non-smoker', 'Insurance_cost': 6420.0}, 'Adri': {'Age': 27, 'Sex': 'Female', 'BMI': 25, 'Children': 0, 'Smoker': 'Non-Smoker', 'Insurance_cost': '15'}}\n"
     ]
    }
   ],
   "source": [
    "# 19a\n",
    "def update_medical_records(name, age, sex, bmi, children, smoker, insurance_cost):\n",
    "  medical_records.update({name: {\"Age\": age, \"Sex\": sex, \"BMI\": bmi, \"Children\" : children, \"Smoker\" : smoker, \"Insurance_cost\" : insurance_cost}})\n",
    "\n",
    "# Test 19a\n",
    "update_medical_records(name=\"Adri\", age=27, sex=\"Female\", bmi=25, children=0, smoker=\"Non-Smoker\", insurance_cost=\"15\")\n",
    "print(medical_records)"
   ]
  }
 ],
 "metadata": {
  "kernelspec": {
   "display_name": "Python 3",
   "language": "python",
   "name": "python3"
  },
  "language_info": {
   "codemirror_mode": {
    "name": "ipython",
    "version": 3
   },
   "file_extension": ".py",
   "mimetype": "text/x-python",
   "name": "python",
   "nbconvert_exporter": "python",
   "pygments_lexer": "ipython3",
   "version": "3.8.3"
  }
 },
 "nbformat": 4,
 "nbformat_minor": 4
}
